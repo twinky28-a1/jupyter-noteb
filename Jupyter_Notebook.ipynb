{
  "metadata": {
    "kernelspec": {
      "name": "python",
      "display_name": "Pyolite",
      "language": "python"
    },
    "language_info": {
      "codemirror_mode": {
        "name": "python",
        "version": 3
      },
      "file_extension": ".py",
      "mimetype": "text/x-python",
      "name": "python",
      "nbconvert_exporter": "python",
      "pygments_lexer": "ipython3",
      "version": "3.8"
    }
  },
  "nbformat_minor": 4,
  "nbformat": 4,
  "cells": [
    {
      "cell_type": "markdown",
      "source": "<center>\n    <img src=\"https://s3-api.us-geo.objectstorage.softlayer.net/cf-courses-data/CognitiveClass/Logos/organization_logo/organization_logo.png\" width=\"300\" alt=\"cognitiveclass.ai logo\"  />\n</center>\n",
      "metadata": {}
    },
    {
      "cell_type": "markdown",
      "source": "# \"My Jupyter Notebook on IBM Watson Studio\"",
      "metadata": {
        "tags": []
      }
    },
    {
      "cell_type": "markdown",
      "source": "**BRYAN NAVARRO**\n    Data analyst ",
      "metadata": {}
    },
    {
      "cell_type": "markdown",
      "source": "*i am interested in data science because i like looking for solutions for problems  it seems very fun.*",
      "metadata": {}
    },
    {
      "cell_type": "markdown",
      "source": "### the code is suppose to solve a simple math problem",
      "metadata": {}
    },
    {
      "cell_type": "code",
      "source": "10+35",
      "metadata": {
        "trusted": true
      },
      "execution_count": 2,
      "outputs": [
        {
          "execution_count": 2,
          "output_type": "execute_result",
          "data": {
            "text/plain": "45"
          },
          "metadata": {}
        }
      ]
    },
    {
      "cell_type": "markdown",
      "source": "* python\n* java\n\n1. jupiter\n2. notebook\n\nthis is the <br> line break\n\n![Unknown.png](attachment:9c35aef3-c68e-4eca-a21e-294cda2f1f66.png)\n\n[click here for youtube tutorial]https://youtu.be/Upcs6OCgnow",
      "metadata": {},
      "attachments": {
        "9c35aef3-c68e-4eca-a21e-294cda2f1f66.png": {
          "image/png": "[encoded data removed]"
        }
      }
    },
    {
      "cell_type": "markdown",
      "source": "",
      "metadata": {}
    }
  ]
}